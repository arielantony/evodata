{
 "cells": [
  {
   "cell_type": "markdown",
   "metadata": {},
   "source": [
    "# Evolution Datasets NB"
   ]
  },
  {
   "cell_type": "code",
   "execution_count": 25,
   "metadata": {},
   "outputs": [],
   "source": [
    "filenames = [\"coppermine_schema_history_5.txt\",\"tikiwiki_schema_history_new.txt\"]"
   ]
  },
  {
   "cell_type": "code",
   "execution_count": 26,
   "metadata": {},
   "outputs": [],
   "source": [
    "cp_data = None\n",
    "tk_data = None\n",
    "\n",
    "with open(filenames[0], \"r\") as f:\n",
    "    cp_data = f.readlines()\n",
    "    \n",
    "with open(filenames[1], \"r\") as f:\n",
    "    tk_data = f.readlines()"
   ]
  },
  {
   "cell_type": "code",
   "execution_count": 80,
   "metadata": {},
   "outputs": [],
   "source": [
    "import re\n",
    "from natsort import natsorted\n",
    "import math\n",
    "\n",
    "revision = re.compile(r\"^r(\\d)+\")"
   ]
  },
  {
   "cell_type": "code",
   "execution_count": 43,
   "metadata": {},
   "outputs": [],
   "source": [
    "labels = [\"coppermine\", \"tikiwiki\"]\n",
    "data = [cp_data, tk_data]\n",
    "revision_data = []\n",
    "\n",
    "for d in data:\n",
    "    \n",
    "    #get the stat for every dataset\n",
    "    stats = {\n",
    "        \"dataset\": labels[data.index(d)],\n",
    "        \"revision_count\" : 0,\n",
    "        \"revisions\" : []\n",
    "    }\n",
    "    \n",
    "    #extract the revision data\n",
    "    for line in d:\n",
    "        l = line.strip('\\n')\n",
    "        if revision.match(l) is not None:\n",
    "            stats[\"revisions\"].append(revision.match(l)[0])\n",
    "            stats[\"revision_count\"] += 1\n",
    "            \n",
    "    #order the revision numbers\n",
    "    revision_data.append(stats)"
   ]
  },
  {
   "cell_type": "code",
   "execution_count": 129,
   "metadata": {},
   "outputs": [
    {
     "name": "stdout",
     "output_type": "stream",
     "text": [
      "Dataset: tikiwiki | Revision Count : 730\n",
      "Revisions per team: 56 revisions\n",
      "Team #1 will get from r7547 to r8976\n",
      "Team #2 will get from r8976 to r11050\n",
      "Team #3 will get from r11050 to r14071\n",
      "Team #4 will get from r14071 to r16187\n",
      "Team #5 will get from r16187 to r20442\n",
      "Team #6 will get from r20442 to r22501\n",
      "Team #7 will get from r22501 to r25087\n",
      "Team #8 will get from r25087 to r28583\n",
      "Team #9 will get from r28583 to r32256\n",
      "Team #10 will get from r32256 to r37681\n",
      "Team #11 will get from r37681 to r46433\n",
      "Team #12 will get from r46433 to r58836\n",
      "Team #13 will get from r58836 to r70288\n",
      "Team #14 will get from r70288 to r70505\n"
     ]
    }
   ],
   "source": [
    "#lets work with 16 teams, dividing according to the number\n",
    "team_limit = 13\n",
    "team_count = 1\n",
    "interval = 50\n",
    "team_interval = {}\n",
    "\n",
    "#for i in range(1):\n",
    "i = 1\n",
    "d = revision_data[i]\n",
    "dataset = d[\"dataset\"]\n",
    "rev_count = d[\"revision_count\"] \n",
    "revisions = natsorted(d[\"revisions\"])\n",
    "print(\"Dataset: {} | Revision Count : {}\".format(dataset, rev_count))\n",
    "\n",
    "rev_per_team = rev_count / team_limit\n",
    "\n",
    "print(\"Revisions per team: {} revisions\".format(math.floor(rev_per_team)))\n",
    "\n",
    "interval = math.floor(rev_per_team)\n",
    "\n",
    "for n in range(0, rev_count, interval):\n",
    "    if (n + interval) > rev_count:\n",
    "        new_interval = rev_count - n\n",
    "        end = n + new_interval - 1\n",
    "        print(\"Team #{} will get from {} to {}\".format(team_count, revisions[n], revisions[end]))\n",
    "    else:\n",
    "        new_interval = interval\n",
    "        end = n + new_interval\n",
    "        print(\"Team #{} will get from {} to {}\".format(team_count, revisions[n], revisions[end]))\n",
    "    team_interval[team_count] = (dataset, revisions[n:end+1])\n",
    "    team_count += 1"
   ]
  },
  {
   "cell_type": "code",
   "execution_count": 145,
   "metadata": {},
   "outputs": [],
   "source": [
    "import os\n",
    "import os.path\n",
    "\n",
    "path = \"tp1_datasets/\"\n",
    "\n",
    "for key, value in team_interval.items():\n",
    "    if os.path.isdir(\"equipe\" + str(key)):\n",
    "        pass\n",
    "    else:\n",
    "        os.mkdir(path + \"equipe\" + str(key))\n",
    "    with open(path + \"equipe\" + str(key) + \"/app.txt\", 'w') as f:\n",
    "        f.write(value[1][0].strip('r') + '\\n')\n",
    "\n",
    "for key, value in team_interval.items():\n",
    "    with open(path + \"equipe\" + str(key) + \"/schemas.txt\", 'w') as f:\n",
    "        for item in value[1]:\n",
    "            f.write(item.strip('r') + '\\n')"
   ]
  }
 ],
 "metadata": {
  "kernelspec": {
   "display_name": "Python 3",
   "language": "python",
   "name": "python3"
  },
  "language_info": {
   "codemirror_mode": {
    "name": "ipython",
    "version": 3
   },
   "file_extension": ".py",
   "mimetype": "text/x-python",
   "name": "python",
   "nbconvert_exporter": "python",
   "pygments_lexer": "ipython3",
   "version": "3.7.4"
  },
  "toc": {
   "base_numbering": 1,
   "nav_menu": {},
   "number_sections": true,
   "sideBar": true,
   "skip_h1_title": false,
   "title_cell": "Table of Contents",
   "title_sidebar": "Contents",
   "toc_cell": false,
   "toc_position": {},
   "toc_section_display": true,
   "toc_window_display": false
  }
 },
 "nbformat": 4,
 "nbformat_minor": 2
}
